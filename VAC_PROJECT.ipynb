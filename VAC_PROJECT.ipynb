{
  "nbformat": 4,
  "nbformat_minor": 0,
  "metadata": {
    "colab": {
      "provenance": [],
      "toc_visible": true
    },
    "kernelspec": {
      "name": "python3",
      "display_name": "Python 3"
    },
    "language_info": {
      "name": "python"
    }
  },
  "cells": [
    {
      "cell_type": "markdown",
      "source": [
        "# DATA PRE-PROCESSING"
      ],
      "metadata": {
        "id": "MTGwUgwMMqS_"
      }
    },
    {
      "cell_type": "code",
      "source": [
        "# Import necessary libraries\n",
        "import pandas as pd\n",
        "from sklearn.model_selection import train_test_split\n",
        "from sklearn.preprocessing import StandardScaler, LabelEncoder\n",
        "from sklearn.utils import resample\n",
        "from imblearn.over_sampling import SMOTE"
      ],
      "metadata": {
        "id": "aVNy-ium8Mhh"
      },
      "execution_count": null,
      "outputs": []
    },
    {
      "cell_type": "code",
      "source": [
        "# Load the dataset\n",
        "file_path = '/content/Loan_default.csv'  # Adjust path if needed\n",
        "loan_data = pd.read_csv(file_path)"
      ],
      "metadata": {
        "id": "Q-y6KXOQ8f88"
      },
      "execution_count": null,
      "outputs": []
    },
    {
      "cell_type": "code",
      "source": [
        "# Drop unique identifier\n",
        "loan_data = loan_data.drop('LoanID', axis=1)"
      ],
      "metadata": {
        "id": "zLKv2kLU8pLp"
      },
      "execution_count": null,
      "outputs": []
    },
    {
      "cell_type": "code",
      "source": [
        "# Encode categorical features using one-hot encoding or label encoding\n",
        "categorical_cols = ['Education', 'EmploymentType', 'MaritalStatus',\n",
        "                    'HasMortgage', 'HasDependents', 'LoanPurpose', 'HasCoSigner']"
      ],
      "metadata": {
        "id": "tIaj8EiZ8tB3"
      },
      "execution_count": null,
      "outputs": []
    },
    {
      "cell_type": "code",
      "source": [
        "# Use one-hot encoding for categorical variables\n",
        "loan_data = pd.get_dummies(loan_data, columns=categorical_cols, drop_first=True)"
      ],
      "metadata": {
        "id": "2a6wINY980av"
      },
      "execution_count": null,
      "outputs": []
    },
    {
      "cell_type": "code",
      "source": [
        "# Split features and target\n",
        "X = loan_data.drop('Default', axis=1)\n",
        "y = loan_data['Default']"
      ],
      "metadata": {
        "id": "07k1PmJ-839r"
      },
      "execution_count": null,
      "outputs": []
    },
    {
      "cell_type": "code",
      "source": [
        "# Address class imbalance in target variable using SMOTE\n",
        "sm = SMOTE(random_state=42)\n",
        "\n",
        "# Before applying SMOTE, handle NaN values in 'y'\n",
        "# Remove rows with NaN in 'Default' column\n",
        "loan_data = loan_data.dropna(subset=['Default'])\n",
        "\n",
        "# Split features and target AFTER handling NaNs\n",
        "X = loan_data.drop('Default', axis=1)\n",
        "y = loan_data['Default']\n",
        "\n",
        "X_res, y_res = sm.fit_resample(X, y)"
      ],
      "metadata": {
        "id": "Vl0DOhVc86WR"
      },
      "execution_count": null,
      "outputs": []
    },
    {
      "cell_type": "code",
      "source": [
        "# Standardize numerical features\n",
        "numerical_cols = ['Age', 'Income', 'LoanAmount', 'CreditScore',\n",
        "                  'MonthsEmployed', 'NumCreditLines', 'InterestRate',\n",
        "                  'LoanTerm', 'DTIRatio']"
      ],
      "metadata": {
        "id": "ZyVWOZBo89Nn"
      },
      "execution_count": null,
      "outputs": []
    },
    {
      "cell_type": "code",
      "source": [
        "scaler = StandardScaler()\n",
        "X_res[numerical_cols] = scaler.fit_transform(X_res[numerical_cols])"
      ],
      "metadata": {
        "id": "wVJFZMPw9bCS"
      },
      "execution_count": null,
      "outputs": []
    },
    {
      "cell_type": "code",
      "source": [
        "# Split into train and test sets\n",
        "X_train, X_test, y_train, y_test = train_test_split(X_res, y_res, test_size=0.2, random_state=42)"
      ],
      "metadata": {
        "id": "kmUM5qXb9djY"
      },
      "execution_count": null,
      "outputs": []
    },
    {
      "cell_type": "code",
      "source": [
        "# Check the processed data\n",
        "print(\"Processed Data Shape:\", X_train.shape, X_test.shape)\n",
        "print(\"Class Distribution in Training Set:\", y_train.value_counts())"
      ],
      "metadata": {
        "colab": {
          "base_uri": "https://localhost:8080/"
        },
        "id": "kAcc9LFa9jNf",
        "outputId": "ec31109b-e96b-4b3b-e299-afcdefaf9f48"
      },
      "execution_count": null,
      "outputs": [
        {
          "output_type": "stream",
          "name": "stdout",
          "text": [
            "Processed Data Shape: (60947, 25) (15237, 25)\n",
            "Class Distribution in Training Set: Default\n",
            "1.0    30515\n",
            "0.0    30432\n",
            "Name: count, dtype: int64\n"
          ]
        }
      ]
    },
    {
      "cell_type": "markdown",
      "source": [
        "# LOGISTIC REGRESSION"
      ],
      "metadata": {
        "id": "OXkAgz8_NZ6O"
      }
    },
    {
      "cell_type": "code",
      "source": [
        "from sklearn.linear_model import LogisticRegression\n",
        "from sklearn.metrics import classification_report, accuracy_score\n",
        "\n",
        "# Initialize and train the Logistic Regression model\n",
        "lr_model = LogisticRegression(random_state=42)\n",
        "lr_model.fit(X_train, y_train)\n",
        "\n",
        "# Predict and evaluate the model\n",
        "y_pred_lr = lr_model.predict(X_test)\n",
        "print(\"Logistic Regression Accuracy:\", accuracy_score(y_test, y_pred_lr))\n",
        "print(\"Classification Report for Logistic Regression:\\n\", classification_report(y_test, y_pred_lr))"
      ],
      "metadata": {
        "colab": {
          "base_uri": "https://localhost:8080/"
        },
        "id": "5dYmqHaqNit1",
        "outputId": "324619c5-a6b6-40e7-a65a-169401e04513"
      },
      "execution_count": null,
      "outputs": [
        {
          "output_type": "stream",
          "name": "stdout",
          "text": [
            "Logistic Regression Accuracy: 0.8548926954124828\n",
            "Classification Report for Logistic Regression:\n",
            "               precision    recall  f1-score   support\n",
            "\n",
            "         0.0       0.84      0.87      0.86      7660\n",
            "         1.0       0.87      0.84      0.85      7577\n",
            "\n",
            "    accuracy                           0.85     15237\n",
            "   macro avg       0.86      0.85      0.85     15237\n",
            "weighted avg       0.86      0.85      0.85     15237\n",
            "\n"
          ]
        }
      ]
    },
    {
      "cell_type": "markdown",
      "source": [
        "# RANDOM FOREST CLASSIFIER"
      ],
      "metadata": {
        "id": "O8a_RnW9N1ky"
      }
    },
    {
      "cell_type": "code",
      "source": [
        "from sklearn.ensemble import RandomForestClassifier\n",
        "\n",
        "# Initialize and train the Random Forest model\n",
        "rf_model = RandomForestClassifier(random_state=42)\n",
        "rf_model.fit(X_train, y_train)\n",
        "\n",
        "# Predict and evaluate the model\n",
        "y_pred_rf = rf_model.predict(X_test)\n",
        "print(\"Random Forest Accuracy:\", accuracy_score(y_test, y_pred_rf))\n",
        "print(\"Classification Report for Random Forest:\\n\", classification_report(y_test, y_pred_rf))"
      ],
      "metadata": {
        "colab": {
          "base_uri": "https://localhost:8080/"
        },
        "id": "SqQKtAf6N9TI",
        "outputId": "e2eae6b8-1b92-4255-b186-628f397d3525"
      },
      "execution_count": null,
      "outputs": [
        {
          "output_type": "stream",
          "name": "stdout",
          "text": [
            "Random Forest Accuracy: 0.9232132309509746\n",
            "Classification Report for Random Forest:\n",
            "               precision    recall  f1-score   support\n",
            "\n",
            "         0.0       0.89      0.96      0.93      7660\n",
            "         1.0       0.96      0.88      0.92      7577\n",
            "\n",
            "    accuracy                           0.92     15237\n",
            "   macro avg       0.93      0.92      0.92     15237\n",
            "weighted avg       0.93      0.92      0.92     15237\n",
            "\n"
          ]
        }
      ]
    },
    {
      "cell_type": "markdown",
      "source": [
        "# SUPPORT VECTOR MACHINE (SVM)"
      ],
      "metadata": {
        "id": "I3-eKWluOGSK"
      }
    },
    {
      "cell_type": "code",
      "source": [
        "from sklearn.svm import SVC\n",
        "\n",
        "# Initialize and train the SVM model\n",
        "svm_model = SVC(random_state=42)\n",
        "svm_model.fit(X_train, y_train)\n",
        "\n",
        "# Predict and evaluate the model\n",
        "y_pred_svm = svm_model.predict(X_test)\n",
        "print(\"SVM Accuracy:\", accuracy_score(y_test, y_pred_svm))\n",
        "print(\"Classification Report for SVM:\\n\", classification_report(y_test, y_pred_svm))"
      ],
      "metadata": {
        "colab": {
          "base_uri": "https://localhost:8080/"
        },
        "id": "MjyEnhPVRLaf",
        "outputId": "2124e67c-9072-4544-e916-736b0f25eca0"
      },
      "execution_count": null,
      "outputs": [
        {
          "output_type": "stream",
          "name": "stdout",
          "text": [
            "SVM Accuracy: 0.8962394172081118\n",
            "Classification Report for SVM:\n",
            "               precision    recall  f1-score   support\n",
            "\n",
            "         0.0       0.86      0.95      0.90      7660\n",
            "         1.0       0.94      0.84      0.89      7577\n",
            "\n",
            "    accuracy                           0.90     15237\n",
            "   macro avg       0.90      0.90      0.90     15237\n",
            "weighted avg       0.90      0.90      0.90     15237\n",
            "\n"
          ]
        }
      ]
    },
    {
      "cell_type": "markdown",
      "source": [
        "# DECISION TREE CLASSIFIER"
      ],
      "metadata": {
        "id": "ZJimaDJdOjcs"
      }
    },
    {
      "cell_type": "code",
      "source": [
        "from sklearn.tree import DecisionTreeClassifier\n",
        "\n",
        "# Initialize and train the Decision Tree model\n",
        "dt_model = DecisionTreeClassifier(random_state=42)\n",
        "dt_model.fit(X_train, y_train)\n",
        "\n",
        "# Predict and evaluate the model\n",
        "y_pred_dt = dt_model.predict(X_test)\n",
        "print(\"Decision Tree Accuracy:\", accuracy_score(y_test, y_pred_dt))\n",
        "print(\"Classification Report for Decision Tree:\\n\", classification_report(y_test, y_pred_dt))"
      ],
      "metadata": {
        "colab": {
          "base_uri": "https://localhost:8080/"
        },
        "id": "zw_bwOtqRR53",
        "outputId": "6cfbc221-1ccb-4b18-d89f-ba65f11aece8"
      },
      "execution_count": null,
      "outputs": [
        {
          "output_type": "stream",
          "name": "stdout",
          "text": [
            "Decision Tree Accuracy: 0.8493797991730656\n",
            "Classification Report for Decision Tree:\n",
            "               precision    recall  f1-score   support\n",
            "\n",
            "         0.0       0.86      0.83      0.85      7660\n",
            "         1.0       0.84      0.87      0.85      7577\n",
            "\n",
            "    accuracy                           0.85     15237\n",
            "   macro avg       0.85      0.85      0.85     15237\n",
            "weighted avg       0.85      0.85      0.85     15237\n",
            "\n"
          ]
        }
      ]
    },
    {
      "cell_type": "markdown",
      "source": [
        "# NEURAL NETWORK"
      ],
      "metadata": {
        "id": "l9LwVQjKSTC9"
      }
    },
    {
      "cell_type": "code",
      "source": [
        "import tensorflow as tf\n",
        "from tensorflow.keras.models import Sequential\n",
        "from tensorflow.keras.layers import Dense, Dropout\n",
        "from tensorflow.keras.optimizers import Adam\n",
        "from tensorflow.keras.callbacks import EarlyStopping\n",
        "from sklearn.metrics import classification_report, accuracy_score\n",
        "\n",
        "# Initialize the neural network model\n",
        "nn_model = Sequential()\n",
        "\n",
        "# Input layer (size of the input data)\n",
        "nn_model.add(Dense(64, activation='relu', input_dim=X_train.shape[1]))\n",
        "\n",
        "# Hidden layers\n",
        "nn_model.add(Dense(32, activation='relu'))\n",
        "nn_model.add(Dropout(0.5))  # Dropout to prevent overfitting\n",
        "\n",
        "# Output layer\n",
        "nn_model.add(Dense(1, activation='sigmoid'))  # Binary classification (loan default or not)\n",
        "\n",
        "# Compile the model\n",
        "nn_model.compile(optimizer=Adam(learning_rate=0.001),\n",
        "                 loss='binary_crossentropy',\n",
        "                 metrics=['accuracy'])\n",
        "\n",
        "# Early stopping to prevent overfitting (stop training when the validation accuracy stops improving)\n",
        "early_stopping = EarlyStopping(monitor='val_loss', patience=10, restore_best_weights=True)\n",
        "\n",
        "# Train the neural network model\n",
        "history = nn_model.fit(X_train, y_train,\n",
        "                       epochs=50,\n",
        "                       batch_size=32,\n",
        "                       validation_data=(X_test, y_test),\n",
        "                       callbacks=[early_stopping],\n",
        "                       verbose=1)\n",
        "\n",
        "# Predict and evaluate the model\n",
        "y_pred_nn = (nn_model.predict(X_test) > 0.5).astype('int32')  # Sigmoid output to binary\n",
        "\n",
        "# Evaluate and print the performance\n",
        "print(\"Neural Network Accuracy:\", accuracy_score(y_test, y_pred_nn))\n",
        "print(\"Classification Report for Neural Network:\\n\", classification_report(y_test, y_pred_nn))"
      ],
      "metadata": {
        "colab": {
          "base_uri": "https://localhost:8080/"
        },
        "id": "Px41QinASaH_",
        "outputId": "d6fc4513-aad8-423a-b2e4-3b15f7e8d5ed"
      },
      "execution_count": null,
      "outputs": [
        {
          "output_type": "stream",
          "name": "stdout",
          "text": [
            "Epoch 1/50\n"
          ]
        },
        {
          "output_type": "stream",
          "name": "stderr",
          "text": [
            "/usr/local/lib/python3.10/dist-packages/keras/src/layers/core/dense.py:87: UserWarning: Do not pass an `input_shape`/`input_dim` argument to a layer. When using Sequential models, prefer using an `Input(shape)` object as the first layer in the model instead.\n",
            "  super().__init__(activity_regularizer=activity_regularizer, **kwargs)\n"
          ]
        },
        {
          "output_type": "stream",
          "name": "stdout",
          "text": [
            "\u001b[1m1905/1905\u001b[0m \u001b[32m━━━━━━━━━━━━━━━━━━━━\u001b[0m\u001b[37m\u001b[0m \u001b[1m12s\u001b[0m 5ms/step - accuracy: 0.7906 - loss: 0.4420 - val_accuracy: 0.8716 - val_loss: 0.2965\n",
            "Epoch 2/50\n",
            "\u001b[1m1905/1905\u001b[0m \u001b[32m━━━━━━━━━━━━━━━━━━━━\u001b[0m\u001b[37m\u001b[0m \u001b[1m14s\u001b[0m 2ms/step - accuracy: 0.8649 - loss: 0.3094 - val_accuracy: 0.8757 - val_loss: 0.2825\n",
            "Epoch 3/50\n",
            "\u001b[1m1905/1905\u001b[0m \u001b[32m━━━━━━━━━━━━━━━━━━━━\u001b[0m\u001b[37m\u001b[0m \u001b[1m4s\u001b[0m 2ms/step - accuracy: 0.8697 - loss: 0.2961 - val_accuracy: 0.8764 - val_loss: 0.2778\n",
            "Epoch 4/50\n",
            "\u001b[1m1905/1905\u001b[0m \u001b[32m━━━━━━━━━━━━━━━━━━━━\u001b[0m\u001b[37m\u001b[0m \u001b[1m5s\u001b[0m 2ms/step - accuracy: 0.8731 - loss: 0.2893 - val_accuracy: 0.8783 - val_loss: 0.2719\n",
            "Epoch 5/50\n",
            "\u001b[1m1905/1905\u001b[0m \u001b[32m━━━━━━━━━━━━━━━━━━━━\u001b[0m\u001b[37m\u001b[0m \u001b[1m4s\u001b[0m 2ms/step - accuracy: 0.8747 - loss: 0.2826 - val_accuracy: 0.8810 - val_loss: 0.2694\n",
            "Epoch 6/50\n",
            "\u001b[1m1905/1905\u001b[0m \u001b[32m━━━━━━━━━━━━━━━━━━━━\u001b[0m\u001b[37m\u001b[0m \u001b[1m3s\u001b[0m 2ms/step - accuracy: 0.8759 - loss: 0.2823 - val_accuracy: 0.8775 - val_loss: 0.2679\n",
            "Epoch 7/50\n",
            "\u001b[1m1905/1905\u001b[0m \u001b[32m━━━━━━━━━━━━━━━━━━━━\u001b[0m\u001b[37m\u001b[0m \u001b[1m4s\u001b[0m 2ms/step - accuracy: 0.8810 - loss: 0.2740 - val_accuracy: 0.8854 - val_loss: 0.2607\n",
            "Epoch 8/50\n",
            "\u001b[1m1905/1905\u001b[0m \u001b[32m━━━━━━━━━━━━━━━━━━━━\u001b[0m\u001b[37m\u001b[0m \u001b[1m6s\u001b[0m 2ms/step - accuracy: 0.8799 - loss: 0.2744 - val_accuracy: 0.8870 - val_loss: 0.2578\n",
            "Epoch 9/50\n",
            "\u001b[1m1905/1905\u001b[0m \u001b[32m━━━━━━━━━━━━━━━━━━━━\u001b[0m\u001b[37m\u001b[0m \u001b[1m4s\u001b[0m 2ms/step - accuracy: 0.8814 - loss: 0.2691 - val_accuracy: 0.8832 - val_loss: 0.2593\n",
            "Epoch 10/50\n",
            "\u001b[1m1905/1905\u001b[0m \u001b[32m━━━━━━━━━━━━━━━━━━━━\u001b[0m\u001b[37m\u001b[0m \u001b[1m6s\u001b[0m 2ms/step - accuracy: 0.8853 - loss: 0.2645 - val_accuracy: 0.8877 - val_loss: 0.2560\n",
            "Epoch 11/50\n",
            "\u001b[1m1905/1905\u001b[0m \u001b[32m━━━━━━━━━━━━━━━━━━━━\u001b[0m\u001b[37m\u001b[0m \u001b[1m5s\u001b[0m 2ms/step - accuracy: 0.8872 - loss: 0.2607 - val_accuracy: 0.8878 - val_loss: 0.2607\n",
            "Epoch 12/50\n",
            "\u001b[1m1905/1905\u001b[0m \u001b[32m━━━━━━━━━━━━━━━━━━━━\u001b[0m\u001b[37m\u001b[0m \u001b[1m5s\u001b[0m 2ms/step - accuracy: 0.8884 - loss: 0.2615 - val_accuracy: 0.8880 - val_loss: 0.2549\n",
            "Epoch 13/50\n",
            "\u001b[1m1905/1905\u001b[0m \u001b[32m━━━━━━━━━━━━━━━━━━━━\u001b[0m\u001b[37m\u001b[0m \u001b[1m5s\u001b[0m 3ms/step - accuracy: 0.8885 - loss: 0.2609 - val_accuracy: 0.8853 - val_loss: 0.2590\n",
            "Epoch 14/50\n",
            "\u001b[1m1905/1905\u001b[0m \u001b[32m━━━━━━━━━━━━━━━━━━━━\u001b[0m\u001b[37m\u001b[0m \u001b[1m3s\u001b[0m 2ms/step - accuracy: 0.8879 - loss: 0.2599 - val_accuracy: 0.8833 - val_loss: 0.2588\n",
            "Epoch 15/50\n",
            "\u001b[1m1905/1905\u001b[0m \u001b[32m━━━━━━━━━━━━━━━━━━━━\u001b[0m\u001b[37m\u001b[0m \u001b[1m5s\u001b[0m 2ms/step - accuracy: 0.8867 - loss: 0.2595 - val_accuracy: 0.8873 - val_loss: 0.2551\n",
            "Epoch 16/50\n",
            "\u001b[1m1905/1905\u001b[0m \u001b[32m━━━━━━━━━━━━━━━━━━━━\u001b[0m\u001b[37m\u001b[0m \u001b[1m5s\u001b[0m 3ms/step - accuracy: 0.8884 - loss: 0.2562 - val_accuracy: 0.8910 - val_loss: 0.2541\n",
            "Epoch 17/50\n",
            "\u001b[1m1905/1905\u001b[0m \u001b[32m━━━━━━━━━━━━━━━━━━━━\u001b[0m\u001b[37m\u001b[0m \u001b[1m4s\u001b[0m 2ms/step - accuracy: 0.8870 - loss: 0.2617 - val_accuracy: 0.8882 - val_loss: 0.2555\n",
            "Epoch 18/50\n",
            "\u001b[1m1905/1905\u001b[0m \u001b[32m━━━━━━━━━━━━━━━━━━━━\u001b[0m\u001b[37m\u001b[0m \u001b[1m5s\u001b[0m 2ms/step - accuracy: 0.8914 - loss: 0.2524 - val_accuracy: 0.8886 - val_loss: 0.2575\n",
            "Epoch 19/50\n",
            "\u001b[1m1905/1905\u001b[0m \u001b[32m━━━━━━━━━━━━━━━━━━━━\u001b[0m\u001b[37m\u001b[0m \u001b[1m7s\u001b[0m 3ms/step - accuracy: 0.8906 - loss: 0.2524 - val_accuracy: 0.8906 - val_loss: 0.2558\n",
            "Epoch 20/50\n",
            "\u001b[1m1905/1905\u001b[0m \u001b[32m━━━━━━━━━━━━━━━━━━━━\u001b[0m\u001b[37m\u001b[0m \u001b[1m9s\u001b[0m 2ms/step - accuracy: 0.8913 - loss: 0.2529 - val_accuracy: 0.8915 - val_loss: 0.2527\n",
            "Epoch 21/50\n",
            "\u001b[1m1905/1905\u001b[0m \u001b[32m━━━━━━━━━━━━━━━━━━━━\u001b[0m\u001b[37m\u001b[0m \u001b[1m5s\u001b[0m 3ms/step - accuracy: 0.8906 - loss: 0.2547 - val_accuracy: 0.8880 - val_loss: 0.2546\n",
            "Epoch 22/50\n",
            "\u001b[1m1905/1905\u001b[0m \u001b[32m━━━━━━━━━━━━━━━━━━━━\u001b[0m\u001b[37m\u001b[0m \u001b[1m4s\u001b[0m 2ms/step - accuracy: 0.8901 - loss: 0.2538 - val_accuracy: 0.8903 - val_loss: 0.2530\n",
            "Epoch 23/50\n",
            "\u001b[1m1905/1905\u001b[0m \u001b[32m━━━━━━━━━━━━━━━━━━━━\u001b[0m\u001b[37m\u001b[0m \u001b[1m3s\u001b[0m 2ms/step - accuracy: 0.8916 - loss: 0.2511 - val_accuracy: 0.8911 - val_loss: 0.2528\n",
            "Epoch 24/50\n",
            "\u001b[1m1905/1905\u001b[0m \u001b[32m━━━━━━━━━━━━━━━━━━━━\u001b[0m\u001b[37m\u001b[0m \u001b[1m7s\u001b[0m 3ms/step - accuracy: 0.8909 - loss: 0.2527 - val_accuracy: 0.8892 - val_loss: 0.2568\n",
            "Epoch 25/50\n",
            "\u001b[1m1905/1905\u001b[0m \u001b[32m━━━━━━━━━━━━━━━━━━━━\u001b[0m\u001b[37m\u001b[0m \u001b[1m4s\u001b[0m 2ms/step - accuracy: 0.8928 - loss: 0.2492 - val_accuracy: 0.8885 - val_loss: 0.2540\n",
            "Epoch 26/50\n",
            "\u001b[1m1905/1905\u001b[0m \u001b[32m━━━━━━━━━━━━━━━━━━━━\u001b[0m\u001b[37m\u001b[0m \u001b[1m5s\u001b[0m 2ms/step - accuracy: 0.8930 - loss: 0.2510 - val_accuracy: 0.8887 - val_loss: 0.2630\n",
            "Epoch 27/50\n",
            "\u001b[1m1905/1905\u001b[0m \u001b[32m━━━━━━━━━━━━━━━━━━━━\u001b[0m\u001b[37m\u001b[0m \u001b[1m5s\u001b[0m 3ms/step - accuracy: 0.8934 - loss: 0.2497 - val_accuracy: 0.8876 - val_loss: 0.2544\n",
            "Epoch 28/50\n",
            "\u001b[1m1905/1905\u001b[0m \u001b[32m━━━━━━━━━━━━━━━━━━━━\u001b[0m\u001b[37m\u001b[0m \u001b[1m4s\u001b[0m 2ms/step - accuracy: 0.8932 - loss: 0.2505 - val_accuracy: 0.8915 - val_loss: 0.2532\n",
            "Epoch 29/50\n",
            "\u001b[1m1905/1905\u001b[0m \u001b[32m━━━━━━━━━━━━━━━━━━━━\u001b[0m\u001b[37m\u001b[0m \u001b[1m3s\u001b[0m 2ms/step - accuracy: 0.8928 - loss: 0.2518 - val_accuracy: 0.8909 - val_loss: 0.2563\n",
            "Epoch 30/50\n",
            "\u001b[1m1905/1905\u001b[0m \u001b[32m━━━━━━━━━━━━━━━━━━━━\u001b[0m\u001b[37m\u001b[0m \u001b[1m7s\u001b[0m 3ms/step - accuracy: 0.8921 - loss: 0.2518 - val_accuracy: 0.8902 - val_loss: 0.2527\n",
            "Epoch 31/50\n",
            "\u001b[1m1905/1905\u001b[0m \u001b[32m━━━━━━━━━━━━━━━━━━━━\u001b[0m\u001b[37m\u001b[0m \u001b[1m8s\u001b[0m 2ms/step - accuracy: 0.8930 - loss: 0.2513 - val_accuracy: 0.8905 - val_loss: 0.2527\n",
            "Epoch 32/50\n",
            "\u001b[1m1905/1905\u001b[0m \u001b[32m━━━━━━━━━━━━━━━━━━━━\u001b[0m\u001b[37m\u001b[0m \u001b[1m5s\u001b[0m 3ms/step - accuracy: 0.8950 - loss: 0.2465 - val_accuracy: 0.8895 - val_loss: 0.2609\n",
            "Epoch 33/50\n",
            "\u001b[1m1905/1905\u001b[0m \u001b[32m━━━━━━━━━━━━━━━━━━━━\u001b[0m\u001b[37m\u001b[0m \u001b[1m4s\u001b[0m 2ms/step - accuracy: 0.8949 - loss: 0.2489 - val_accuracy: 0.8898 - val_loss: 0.2541\n",
            "Epoch 34/50\n",
            "\u001b[1m1905/1905\u001b[0m \u001b[32m━━━━━━━━━━━━━━━━━━━━\u001b[0m\u001b[37m\u001b[0m \u001b[1m4s\u001b[0m 2ms/step - accuracy: 0.8932 - loss: 0.2509 - val_accuracy: 0.8905 - val_loss: 0.2566\n",
            "Epoch 35/50\n",
            "\u001b[1m1905/1905\u001b[0m \u001b[32m━━━━━━━━━━━━━━━━━━━━\u001b[0m\u001b[37m\u001b[0m \u001b[1m7s\u001b[0m 3ms/step - accuracy: 0.8936 - loss: 0.2500 - val_accuracy: 0.8909 - val_loss: 0.2534\n",
            "Epoch 36/50\n",
            "\u001b[1m1905/1905\u001b[0m \u001b[32m━━━━━━━━━━━━━━━━━━━━\u001b[0m\u001b[37m\u001b[0m \u001b[1m8s\u001b[0m 2ms/step - accuracy: 0.8926 - loss: 0.2517 - val_accuracy: 0.8928 - val_loss: 0.2533\n",
            "Epoch 37/50\n",
            "\u001b[1m1905/1905\u001b[0m \u001b[32m━━━━━━━━━━━━━━━━━━━━\u001b[0m\u001b[37m\u001b[0m \u001b[1m5s\u001b[0m 3ms/step - accuracy: 0.8948 - loss: 0.2462 - val_accuracy: 0.8904 - val_loss: 0.2523\n",
            "Epoch 38/50\n",
            "\u001b[1m1905/1905\u001b[0m \u001b[32m━━━━━━━━━━━━━━━━━━━━\u001b[0m\u001b[37m\u001b[0m \u001b[1m9s\u001b[0m 2ms/step - accuracy: 0.8969 - loss: 0.2430 - val_accuracy: 0.8897 - val_loss: 0.2541\n",
            "Epoch 39/50\n",
            "\u001b[1m1905/1905\u001b[0m \u001b[32m━━━━━━━━━━━━━━━━━━━━\u001b[0m\u001b[37m\u001b[0m \u001b[1m6s\u001b[0m 2ms/step - accuracy: 0.8950 - loss: 0.2469 - val_accuracy: 0.8899 - val_loss: 0.2600\n",
            "Epoch 40/50\n",
            "\u001b[1m1905/1905\u001b[0m \u001b[32m━━━━━━━━━━━━━━━━━━━━\u001b[0m\u001b[37m\u001b[0m \u001b[1m4s\u001b[0m 2ms/step - accuracy: 0.8972 - loss: 0.2448 - val_accuracy: 0.8922 - val_loss: 0.2563\n",
            "Epoch 41/50\n",
            "\u001b[1m1905/1905\u001b[0m \u001b[32m━━━━━━━━━━━━━━━━━━━━\u001b[0m\u001b[37m\u001b[0m \u001b[1m3s\u001b[0m 2ms/step - accuracy: 0.8954 - loss: 0.2463 - val_accuracy: 0.8913 - val_loss: 0.2544\n",
            "Epoch 42/50\n",
            "\u001b[1m1905/1905\u001b[0m \u001b[32m━━━━━━━━━━━━━━━━━━━━\u001b[0m\u001b[37m\u001b[0m \u001b[1m6s\u001b[0m 2ms/step - accuracy: 0.8965 - loss: 0.2451 - val_accuracy: 0.8899 - val_loss: 0.2549\n",
            "Epoch 43/50\n",
            "\u001b[1m1905/1905\u001b[0m \u001b[32m━━━━━━━━━━━━━━━━━━━━\u001b[0m\u001b[37m\u001b[0m \u001b[1m4s\u001b[0m 2ms/step - accuracy: 0.8964 - loss: 0.2437 - val_accuracy: 0.8914 - val_loss: 0.2570\n",
            "Epoch 44/50\n",
            "\u001b[1m1905/1905\u001b[0m \u001b[32m━━━━━━━━━━━━━━━━━━━━\u001b[0m\u001b[37m\u001b[0m \u001b[1m4s\u001b[0m 2ms/step - accuracy: 0.8980 - loss: 0.2423 - val_accuracy: 0.8899 - val_loss: 0.2535\n",
            "Epoch 45/50\n",
            "\u001b[1m1905/1905\u001b[0m \u001b[32m━━━━━━━━━━━━━━━━━━━━\u001b[0m\u001b[37m\u001b[0m \u001b[1m6s\u001b[0m 2ms/step - accuracy: 0.8962 - loss: 0.2439 - val_accuracy: 0.8894 - val_loss: 0.2523\n",
            "Epoch 46/50\n",
            "\u001b[1m1905/1905\u001b[0m \u001b[32m━━━━━━━━━━━━━━━━━━━━\u001b[0m\u001b[37m\u001b[0m \u001b[1m4s\u001b[0m 2ms/step - accuracy: 0.8963 - loss: 0.2458 - val_accuracy: 0.8898 - val_loss: 0.2538\n",
            "Epoch 47/50\n",
            "\u001b[1m1905/1905\u001b[0m \u001b[32m━━━━━━━━━━━━━━━━━━━━\u001b[0m\u001b[37m\u001b[0m \u001b[1m4s\u001b[0m 2ms/step - accuracy: 0.8974 - loss: 0.2439 - val_accuracy: 0.8912 - val_loss: 0.2542\n",
            "Epoch 48/50\n",
            "\u001b[1m1905/1905\u001b[0m \u001b[32m━━━━━━━━━━━━━━━━━━━━\u001b[0m\u001b[37m\u001b[0m \u001b[1m5s\u001b[0m 3ms/step - accuracy: 0.8988 - loss: 0.2420 - val_accuracy: 0.8904 - val_loss: 0.2542\n",
            "Epoch 49/50\n",
            "\u001b[1m1905/1905\u001b[0m \u001b[32m━━━━━━━━━━━━━━━━━━━━\u001b[0m\u001b[37m\u001b[0m \u001b[1m4s\u001b[0m 2ms/step - accuracy: 0.8959 - loss: 0.2448 - val_accuracy: 0.8916 - val_loss: 0.2566\n",
            "Epoch 50/50\n",
            "\u001b[1m1905/1905\u001b[0m \u001b[32m━━━━━━━━━━━━━━━━━━━━\u001b[0m\u001b[37m\u001b[0m \u001b[1m3s\u001b[0m 2ms/step - accuracy: 0.8966 - loss: 0.2439 - val_accuracy: 0.8901 - val_loss: 0.2613\n",
            "\u001b[1m477/477\u001b[0m \u001b[32m━━━━━━━━━━━━━━━━━━━━\u001b[0m\u001b[37m\u001b[0m \u001b[1m1s\u001b[0m 1ms/step\n",
            "Neural Network Accuracy: 0.8894139266259763\n",
            "Classification Report for Neural Network:\n",
            "               precision    recall  f1-score   support\n",
            "\n",
            "         0.0       0.84      0.97      0.90      7660\n",
            "         1.0       0.96      0.81      0.88      7577\n",
            "\n",
            "    accuracy                           0.89     15237\n",
            "   macro avg       0.90      0.89      0.89     15237\n",
            "weighted avg       0.90      0.89      0.89     15237\n",
            "\n"
          ]
        }
      ]
    },
    {
      "cell_type": "markdown",
      "source": [
        "# K-NEAREST NEIGHBORS (KNN)"
      ],
      "metadata": {
        "id": "QWw2eb-gTiU9"
      }
    },
    {
      "cell_type": "code",
      "source": [
        "from sklearn.neighbors import KNeighborsClassifier\n",
        "\n",
        "# Initialize and train the KNN model\n",
        "knn_model = KNeighborsClassifier()\n",
        "knn_model.fit(X_train, y_train)\n",
        "\n",
        "# Predict and evaluate the model\n",
        "y_pred_knn = knn_model.predict(X_test)\n",
        "print(\"KNN Accuracy:\", accuracy_score(y_test, y_pred_knn))\n",
        "print(\"Classification Report for KNN:\\n\", classification_report(y_test, y_pred_knn))"
      ],
      "metadata": {
        "colab": {
          "base_uri": "https://localhost:8080/"
        },
        "id": "gZ7zi3DuT23g",
        "outputId": "0f95ae4c-c7c4-435e-823d-495240542072"
      },
      "execution_count": null,
      "outputs": [
        {
          "output_type": "stream",
          "name": "stdout",
          "text": [
            "KNN Accuracy: 0.8868543676576754\n",
            "Classification Report for KNN:\n",
            "               precision    recall  f1-score   support\n",
            "\n",
            "         0.0       0.95      0.82      0.88      7660\n",
            "         1.0       0.84      0.96      0.89      7577\n",
            "\n",
            "    accuracy                           0.89     15237\n",
            "   macro avg       0.89      0.89      0.89     15237\n",
            "weighted avg       0.89      0.89      0.89     15237\n",
            "\n"
          ]
        }
      ]
    },
    {
      "cell_type": "markdown",
      "source": [
        "# NAIVE BAYES CLASSIFIER"
      ],
      "metadata": {
        "id": "QXT016BDUAnu"
      }
    },
    {
      "cell_type": "code",
      "source": [
        "from sklearn.naive_bayes import GaussianNB\n",
        "\n",
        "# Initialize and train the Naive Bayes model\n",
        "nb_model = GaussianNB()\n",
        "nb_model.fit(X_train, y_train)\n",
        "\n",
        "# Predict and evaluate the model\n",
        "y_pred_nb = nb_model.predict(X_test)\n",
        "print(\"Naive Bayes Accuracy:\", accuracy_score(y_test, y_pred_nb))\n",
        "print(\"Classification Report for Naive Bayes:\\n\", classification_report(y_test, y_pred_nb))"
      ],
      "metadata": {
        "colab": {
          "base_uri": "https://localhost:8080/"
        },
        "id": "lo9ztwerULcl",
        "outputId": "85c03c2e-097f-4a00-f304-89ca1cf33f7f"
      },
      "execution_count": null,
      "outputs": [
        {
          "output_type": "stream",
          "name": "stdout",
          "text": [
            "Naive Bayes Accuracy: 0.8575178840979195\n",
            "Classification Report for Naive Bayes:\n",
            "               precision    recall  f1-score   support\n",
            "\n",
            "         0.0       0.85      0.87      0.86      7660\n",
            "         1.0       0.86      0.85      0.86      7577\n",
            "\n",
            "    accuracy                           0.86     15237\n",
            "   macro avg       0.86      0.86      0.86     15237\n",
            "weighted avg       0.86      0.86      0.86     15237\n",
            "\n"
          ]
        }
      ]
    }
  ]
}